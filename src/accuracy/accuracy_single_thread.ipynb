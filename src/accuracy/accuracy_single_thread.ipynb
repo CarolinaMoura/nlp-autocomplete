{
 "cells": [
  {
   "cell_type": "code",
   "execution_count": 12,
   "metadata": {},
   "outputs": [],
   "source": [
    "import pandas as pd\n",
    "import torch\n",
    "from transformers import BertTokenizer, BertForMaskedLM\n",
    "from tqdm import tqdm\n",
    "from dijkstra.predictions import get_all_predictions"
   ]
  },
  {
   "cell_type": "code",
   "execution_count": 13,
   "metadata": {},
   "outputs": [],
   "source": [
    "test_dataset_path = '../../data/test.csv'\n",
    "model_checkpoints = []\n",
    "\n",
    "datasets = ['carolina', 'psa_small', 'psa_full']\n",
    "models = ['end_token', 'random_tokens']\n",
    "\n",
    "for dataset in datasets:\n",
    "    for model in models:\n",
    "        model_checkpoints.append(f'../../models/{dataset}/{model}/best_model.pt')"
   ]
  },
  {
   "attachments": {},
   "cell_type": "markdown",
   "metadata": {},
   "source": [
    "# Load tokenizer and model"
   ]
  },
  {
   "cell_type": "code",
   "execution_count": 14,
   "metadata": {},
   "outputs": [],
   "source": [
    "tokenizer = BertTokenizer.from_pretrained('bert-base-multilingual-cased')"
   ]
  },
  {
   "cell_type": "code",
   "execution_count": 15,
   "metadata": {},
   "outputs": [
    {
     "name": "stderr",
     "output_type": "stream",
     "text": [
      "Some weights of the model checkpoint at bert-base-multilingual-cased were not used when initializing BertForMaskedLM: ['cls.seq_relationship.bias', 'cls.seq_relationship.weight']\n",
      "- This IS expected if you are initializing BertForMaskedLM from the checkpoint of a model trained on another task or with another architecture (e.g. initializing a BertForSequenceClassification model from a BertForPreTraining model).\n",
      "- This IS NOT expected if you are initializing BertForMaskedLM from the checkpoint of a model that you expect to be exactly identical (initializing a BertForSequenceClassification model from a BertForSequenceClassification model).\n"
     ]
    }
   ],
   "source": [
    "model = BertForMaskedLM.from_pretrained('bert-base-multilingual-cased')"
   ]
  },
  {
   "attachments": {},
   "cell_type": "markdown",
   "metadata": {},
   "source": [
    "# Load test dataset"
   ]
  },
  {
   "cell_type": "code",
   "execution_count": 16,
   "metadata": {},
   "outputs": [],
   "source": [
    "df = pd.read_csv(test_dataset_path)"
   ]
  },
  {
   "cell_type": "code",
   "execution_count": 17,
   "metadata": {},
   "outputs": [
    {
     "data": {
      "text/html": [
       "<div>\n",
       "<style scoped>\n",
       "    .dataframe tbody tr th:only-of-type {\n",
       "        vertical-align: middle;\n",
       "    }\n",
       "\n",
       "    .dataframe tbody tr th {\n",
       "        vertical-align: top;\n",
       "    }\n",
       "\n",
       "    .dataframe thead th {\n",
       "        text-align: right;\n",
       "    }\n",
       "</style>\n",
       "<table border=\"1\" class=\"dataframe\">\n",
       "  <thead>\n",
       "    <tr style=\"text-align: right;\">\n",
       "      <th></th>\n",
       "      <th>sentence</th>\n",
       "      <th>last_word</th>\n",
       "    </tr>\n",
       "  </thead>\n",
       "  <tbody>\n",
       "    <tr>\n",
       "      <th>0</th>\n",
       "      <td>Colossal é um filme de comédia, ação-thriller ...</td>\n",
       "      <td>Vigalondo</td>\n",
       "    </tr>\n",
       "    <tr>\n",
       "      <th>1</th>\n",
       "      <td>O filme é protagonizado por Anne Hathaway, Dan...</td>\n",
       "      <td>Nelson</td>\n",
       "    </tr>\n",
       "    <tr>\n",
       "      <th>2</th>\n",
       "      <td>O filme teve estreia no Festival Internacional...</td>\n",
       "      <td>2016</td>\n",
       "    </tr>\n",
       "    <tr>\n",
       "      <th>3</th>\n",
       "      <td>Está programado para ser lançado pela NEON em ...</td>\n",
       "      <td>2017</td>\n",
       "    </tr>\n",
       "    <tr>\n",
       "      <th>4</th>\n",
       "      <td>Enredo Depois de perder seu emprego e namorado...</td>\n",
       "      <td>Seul</td>\n",
       "    </tr>\n",
       "    <tr>\n",
       "      <th>...</th>\n",
       "      <td>...</td>\n",
       "      <td>...</td>\n",
       "    </tr>\n",
       "    <tr>\n",
       "      <th>47021</th>\n",
       "      <td>Nosso compromisso, por meio do Ibross, é contr...</td>\n",
       "      <td>país</td>\n",
       "    </tr>\n",
       "    <tr>\n",
       "      <th>47022</th>\n",
       "      <td>RENILSON REHEM DE SOUZA, médico, é presidente ...</td>\n",
       "      <td>Saúde</td>\n",
       "    </tr>\n",
       "    <tr>\n",
       "      <th>47023</th>\n",
       "      <td>br Os artigos publicados com assinatura não tr...</td>\n",
       "      <td>jornal</td>\n",
       "    </tr>\n",
       "    <tr>\n",
       "      <th>47024</th>\n",
       "      <td>Sua publicação obedece ao propósito de estimul...</td>\n",
       "      <td>contemporâneo</td>\n",
       "    </tr>\n",
       "    <tr>\n",
       "      <th>47025</th>\n",
       "      <td>@vaaaifelipe Se preferir nos procure através d...</td>\n",
       "      <td>cancelarem</td>\n",
       "    </tr>\n",
       "  </tbody>\n",
       "</table>\n",
       "<p>47026 rows × 2 columns</p>\n",
       "</div>"
      ],
      "text/plain": [
       "                                                sentence      last_word\n",
       "0      Colossal é um filme de comédia, ação-thriller ...      Vigalondo\n",
       "1      O filme é protagonizado por Anne Hathaway, Dan...         Nelson\n",
       "2      O filme teve estreia no Festival Internacional...           2016\n",
       "3      Está programado para ser lançado pela NEON em ...           2017\n",
       "4      Enredo Depois de perder seu emprego e namorado...           Seul\n",
       "...                                                  ...            ...\n",
       "47021  Nosso compromisso, por meio do Ibross, é contr...           país\n",
       "47022  RENILSON REHEM DE SOUZA, médico, é presidente ...          Saúde\n",
       "47023  br Os artigos publicados com assinatura não tr...         jornal\n",
       "47024  Sua publicação obedece ao propósito de estimul...  contemporâneo\n",
       "47025  @vaaaifelipe Se preferir nos procure através d...     cancelarem\n",
       "\n",
       "[47026 rows x 2 columns]"
      ]
     },
     "execution_count": 17,
     "metadata": {},
     "output_type": "execute_result"
    }
   ],
   "source": [
    "df"
   ]
  },
  {
   "attachments": {},
   "cell_type": "markdown",
   "metadata": {},
   "source": [
    "# Get predictions"
   ]
  },
  {
   "cell_type": "code",
   "execution_count": 18,
   "metadata": {},
   "outputs": [],
   "source": [
    "top_k = 5"
   ]
  },
  {
   "cell_type": "code",
   "execution_count": 19,
   "metadata": {},
   "outputs": [],
   "source": [
    "sentences = df['sentence'][:5]\n",
    "last_words = df['last_word'][:5]\n",
    "corrects = {}"
   ]
  },
  {
   "cell_type": "code",
   "execution_count": 20,
   "metadata": {},
   "outputs": [],
   "source": [
    "total_samples = len(sentences)"
   ]
  },
  {
   "cell_type": "code",
   "execution_count": 21,
   "metadata": {},
   "outputs": [],
   "source": [
    "def run_for_model(model_name):\n",
    "    corrects[model_name] = [0] * top_k\n",
    "    model.load_state_dict(torch.load(model_name))\n",
    "    loop = tqdm(zip(sentences, last_words), total=total_samples, leave=True)\n",
    "\n",
    "    for sent, word in loop:\n",
    "        suggestions = get_all_predictions(sent, tokenizer, model, top_k, False, 'cuda:0')\n",
    "\n",
    "        try:\n",
    "            # gotta add this extra space because\n",
    "            # the prediction of a new word also\n",
    "            # predicts a preceding whitespace\n",
    "            ix = suggestions.index(' '+word)\n",
    "        except:\n",
    "            continue\n",
    "\n",
    "        corrects[model_name][ix] += 1\n",
    "\n",
    "    tot = 0\n",
    "\n",
    "    for ix, val in enumerate(corrects[model_name]):\n",
    "        tot += val\n",
    "        print(f'Top {ix+1}: {tot}/{total_samples} = {tot/total_samples}')"
   ]
  },
  {
   "cell_type": "code",
   "execution_count": 22,
   "metadata": {},
   "outputs": [
    {
     "name": "stdout",
     "output_type": "stream",
     "text": [
      "Running ../../models/carolina/end_token/best_model.pt:\n"
     ]
    },
    {
     "name": "stderr",
     "output_type": "stream",
     "text": [
      "  0%|          | 0/5 [00:00<?, ?it/s]"
     ]
    },
    {
     "name": "stderr",
     "output_type": "stream",
     "text": [
      "100%|██████████| 5/5 [00:39<00:00,  7.88s/it]\n"
     ]
    },
    {
     "name": "stdout",
     "output_type": "stream",
     "text": [
      "Top 1: 0/5 = 0.0\n",
      "Top 2: 0/5 = 0.0\n",
      "Top 3: 0/5 = 0.0\n",
      "Top 4: 0/5 = 0.0\n",
      "Top 5: 0/5 = 0.0\n",
      "Running ../../models/carolina/random_tokens/best_model.pt:\n"
     ]
    },
    {
     "name": "stderr",
     "output_type": "stream",
     "text": [
      "100%|██████████| 5/5 [00:29<00:00,  5.82s/it]\n"
     ]
    },
    {
     "name": "stdout",
     "output_type": "stream",
     "text": [
      "Top 1: 0/5 = 0.0\n",
      "Top 2: 0/5 = 0.0\n",
      "Top 3: 0/5 = 0.0\n",
      "Top 4: 0/5 = 0.0\n",
      "Top 5: 0/5 = 0.0\n",
      "Running ../../models/psa_small/end_token/best_model.pt:\n"
     ]
    },
    {
     "name": "stderr",
     "output_type": "stream",
     "text": [
      "100%|██████████| 5/5 [00:35<00:00,  7.00s/it]\n"
     ]
    },
    {
     "name": "stdout",
     "output_type": "stream",
     "text": [
      "Top 1: 0/5 = 0.0\n",
      "Top 2: 0/5 = 0.0\n",
      "Top 3: 1/5 = 0.2\n",
      "Top 4: 1/5 = 0.2\n",
      "Top 5: 2/5 = 0.4\n",
      "Running ../../models/psa_small/random_tokens/best_model.pt:\n"
     ]
    },
    {
     "name": "stderr",
     "output_type": "stream",
     "text": [
      "100%|██████████| 5/5 [09:37<00:00, 115.60s/it]\n"
     ]
    },
    {
     "name": "stdout",
     "output_type": "stream",
     "text": [
      "Top 1: 0/5 = 0.0\n",
      "Top 2: 0/5 = 0.0\n",
      "Top 3: 0/5 = 0.0\n",
      "Top 4: 0/5 = 0.0\n",
      "Top 5: 0/5 = 0.0\n",
      "Running ../../models/psa_full/end_token/best_model.pt:\n"
     ]
    },
    {
     "name": "stderr",
     "output_type": "stream",
     "text": [
      "100%|██████████| 5/5 [00:55<00:00, 11.13s/it]\n"
     ]
    },
    {
     "name": "stdout",
     "output_type": "stream",
     "text": [
      "Top 1: 0/5 = 0.0\n",
      "Top 2: 1/5 = 0.2\n",
      "Top 3: 2/5 = 0.4\n",
      "Top 4: 2/5 = 0.4\n",
      "Top 5: 2/5 = 0.4\n",
      "Running ../../models/psa_full/random_tokens/best_model.pt:\n"
     ]
    },
    {
     "name": "stderr",
     "output_type": "stream",
     "text": [
      "100%|██████████| 5/5 [00:41<00:00,  8.26s/it]"
     ]
    },
    {
     "name": "stdout",
     "output_type": "stream",
     "text": [
      "Top 1: 0/5 = 0.0\n",
      "Top 2: 0/5 = 0.0\n",
      "Top 3: 1/5 = 0.2\n",
      "Top 4: 1/5 = 0.2\n",
      "Top 5: 1/5 = 0.2\n"
     ]
    },
    {
     "name": "stderr",
     "output_type": "stream",
     "text": [
      "\n"
     ]
    }
   ],
   "source": [
    "for model_checkpoint in model_checkpoints:\n",
    "    print(f'Running {model_checkpoint}:')\n",
    "    run_for_model(model_checkpoint)"
   ]
  }
 ],
 "metadata": {
  "kernelspec": {
   "display_name": ".venv",
   "language": "python",
   "name": "python3"
  },
  "language_info": {
   "codemirror_mode": {
    "name": "ipython",
    "version": 3
   },
   "file_extension": ".py",
   "mimetype": "text/x-python",
   "name": "python",
   "nbconvert_exporter": "python",
   "pygments_lexer": "ipython3",
   "version": "3.10.12"
  },
  "orig_nbformat": 4
 },
 "nbformat": 4,
 "nbformat_minor": 2
}
