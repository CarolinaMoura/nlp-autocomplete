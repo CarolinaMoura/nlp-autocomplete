{
 "cells": [
  {
   "cell_type": "code",
   "execution_count": null,
   "metadata": {},
   "outputs": [],
   "source": [
    "import torch\n",
    "import string\n",
    "from datasets import load_from_disk, load_dataset\n",
    "from transformers import BertForMaskedLM, BertTokenizer\n",
    "from transformers import AdamW\n",
    "from tqdm import tqdm\n",
    "from multigpu import main\n",
    "import torch.multiprocessing as mp"
   ]
  },
  {
   "cell_type": "code",
   "execution_count": null,
   "metadata": {},
   "outputs": [],
   "source": [
    "MODEL = \"bert-base-multilingual-cased\"\n",
    "tokenizer = BertTokenizer.from_pretrained(MODEL)\n",
    "model = BertForMaskedLM.from_pretrained(MODEL)\n",
    "MAX_LEN = 128\n",
    "CLS = 101\n",
    "SEP = 102\n",
    "MASKED = 103\n",
    "TRAIN_BATCH_SIZE = 32\n",
    "VALID_BATCH_SIZE = 2\n",
    "LEARNING_RATE = 1e-5\n",
    "EPOCHS = 3\n",
    "train_params = {'batch_size': TRAIN_BATCH_SIZE,\n",
    "                'shuffle': True,\n",
    "                'num_workers': 0\n",
    "                }\n",
    "\n",
    "valid_params = {'batch_size': VALID_BATCH_SIZE,\n",
    "                'shuffle': True,\n",
    "                'num_workers': 0\n",
    "                }\n",
    "device = torch.device('cuda')"
   ]
  },
  {
   "cell_type": "code",
   "execution_count": null,
   "metadata": {},
   "outputs": [],
   "source": [
    "chosen_masking_strategy = 'end_tokens'"
   ]
  },
  {
   "attachments": {},
   "cell_type": "markdown",
   "metadata": {},
   "source": [
    "# Helpers"
   ]
  },
  {
   "attachments": {},
   "cell_type": "markdown",
   "metadata": {},
   "source": [
    "### Masking helpers"
   ]
  },
  {
   "cell_type": "code",
   "execution_count": null,
   "metadata": {},
   "outputs": [],
   "source": [
    "def assure_CLS_and_SEP_false(id_tensor, true_false_tensor):\n",
    "    \"\"\"\n",
    "    Receives a tensor of ids and a tensor of masking, with\n",
    "    True and False values. Returns a copy of the true_false_tensor\n",
    "    where every CLS and SEP position is for sure set to False.\n",
    "\n",
    "    Doesn't mutate any input value and it's free of aliasing.\n",
    "    \"\"\"\n",
    "    ans = true_false_tensor.detach().clone()\n",
    "    ans = ans & (id_tensor != CLS) & (id_tensor != SEP)\n",
    "    return ans"
   ]
  },
  {
   "cell_type": "code",
   "execution_count": null,
   "metadata": {},
   "outputs": [],
   "source": [
    "def mask_random_positions(tensor, k = 0.15):\n",
    "    \"\"\"\n",
    "    Receives a tensor and returns\n",
    "    a new tensor of the same shape randomly filled\n",
    "    with True's at the rate k.\n",
    "    \"\"\"\n",
    "    shape = tensor.shape\n",
    "    rand = torch.rand(shape)\n",
    "    return (rand < k)"
   ]
  },
  {
   "cell_type": "code",
   "execution_count": null,
   "metadata": {},
   "outputs": [],
   "source": [
    "def mask_end_positions(tensor_ids):\n",
    "  \"\"\"\n",
    "  Receives a tensor and returns\n",
    "  a tensor of the same shape filled with False's\n",
    "  and a single True, at the end.\n",
    "  \"\"\"\n",
    "  shape = tensor_ids.shape\n",
    "  masks = torch.zeros(shape) != 0\n",
    "\n",
    "  for i in range(0, shape[0]):\n",
    "    for j in range(0, masks[i].shape[0]):\n",
    "      if tensor_ids[i][j] == SEP:\n",
    "        masks[i][j-1] = True\n",
    "  return masks"
   ]
  },
  {
   "cell_type": "code",
   "execution_count": null,
   "metadata": {},
   "outputs": [],
   "source": [
    "def mask_nothing(tensor):\n",
    "    \"\"\"\n",
    "    Receives a tensor and returns a tensor\n",
    "    of the same shape filled with False's.\n",
    "    \"\"\"\n",
    "    shape = tensor.shape\n",
    "    return torch.full(shape, False)"
   ]
  },
  {
   "cell_type": "code",
   "execution_count": null,
   "metadata": {},
   "outputs": [],
   "source": [
    "def mask(masking_strategy, tensor):\n",
    "    shape = tensor.shape\n",
    "    mask_arr = masking_strategy(tensor)\n",
    "    mask_arr = assure_CLS_and_SEP_false(tensor, mask_arr)\n",
    "    rows = shape[0]\n",
    "\n",
    "    def indices_to_mask(idx):\n",
    "        \"\"\"\n",
    "        Returns a list containing all positions in the\n",
    "        idx-th row of mask_arr that have to be masked.\n",
    "\n",
    "        0 <= idx < rows has to be satisfied.\n",
    "        \"\"\"\n",
    "        to_mask_positions = mask_arr[idx].nonzero()\n",
    "        return torch.flatten(to_mask_positions).tolist()\n",
    "\n",
    "    for i in range(rows):\n",
    "        selection = indices_to_mask(i)\n",
    "        tensor[i, selection] = MASKED"
   ]
  },
  {
   "cell_type": "code",
   "execution_count": null,
   "metadata": {},
   "outputs": [],
   "source": [
    "def save_labels_and_ids(sentences, path, masking_strategy):\n",
    "    sentences = [sentence for sentence in sentences if sentence]\n",
    "    \n",
    "    inputs = tokenizer(sentences, return_tensors = 'pt', max_length = MAX_LEN, \\\n",
    "                        padding = True, truncation = True)\n",
    "        \n",
    "    inputs['labels'] = inputs['input_ids'].detach().clone()\n",
    "\n",
    "    mask(masking_strategy, inputs['input_ids'])\n",
    "\n",
    "    torch.save({\n",
    "        'labels': inputs['labels'],\n",
    "        'input_ids': inputs['input_ids'],\n",
    "        'attention_mask': inputs['attention_mask']\n",
    "    }, f'{path}')"
   ]
  },
  {
   "cell_type": "code",
   "execution_count": null,
   "metadata": {},
   "outputs": [],
   "source": [
    "available_masking_strategies = {}\n",
    "available_masking_strategies['end_token'] = mask_end_positions \n",
    "available_masking_strategies['random_tokens'] = mask_random_positions"
   ]
  },
  {
   "attachments": {},
   "cell_type": "markdown",
   "metadata": {},
   "source": [
    "### Utils"
   ]
  },
  {
   "cell_type": "code",
   "execution_count": null,
   "metadata": {},
   "outputs": [],
   "source": [
    "def send_to_device(arg):\n",
    "    return arg.to(device)"
   ]
  },
  {
   "attachments": {},
   "cell_type": "markdown",
   "metadata": {},
   "source": [
    "# Putting everything together"
   ]
  },
  {
   "cell_type": "code",
   "execution_count": null,
   "metadata": {},
   "outputs": [],
   "source": [
    "dt = load_dataset('carolmou/random-sentences')"
   ]
  },
  {
   "cell_type": "code",
   "execution_count": null,
   "metadata": {},
   "outputs": [],
   "source": [
    "dt"
   ]
  },
  {
   "cell_type": "code",
   "execution_count": null,
   "metadata": {},
   "outputs": [],
   "source": [
    "train = set(dt['train']['correct_text'])\n",
    "test = set(dt['test']['correct_text'])"
   ]
  },
  {
   "cell_type": "code",
   "execution_count": null,
   "metadata": {},
   "outputs": [],
   "source": [
    "print(len(train), len(test))"
   ]
  },
  {
   "cell_type": "code",
   "execution_count": null,
   "metadata": {},
   "outputs": [],
   "source": [
    "train = list(train)\n",
    "test = list(test)"
   ]
  },
  {
   "cell_type": "code",
   "execution_count": null,
   "metadata": {},
   "outputs": [],
   "source": [
    "masking_function = available_masking_strategies[chosen_masking_strategy]\n",
    "\n",
    "for type, sentences in [('train', train), ('test', test)]:\n",
    "    print(f'{type}:')\n",
    "    print(f'# sentences: {len(sentences)}')\n",
    "    print(f'small sample: {sentences[:3]}\\n')\n",
    "\n",
    "    save_labels_and_ids(sentences, f'../../data/{chosen_masking_strategy}_{type}_tokens.pt', \\\n",
    "                        masking_function)"
   ]
  },
  {
   "cell_type": "code",
   "execution_count": null,
   "metadata": {},
   "outputs": [],
   "source": [
    "def create_dataloader(path, params):\n",
    "\n",
    "    class MyDataset(torch.utils.data.Dataset):\n",
    "        def __init__(self, input):\n",
    "            self.input = input\n",
    "\n",
    "        def __getitem__(self, idx):\n",
    "            return { key: torch.tensor(val[idx]) for key, val in self.input.items() }\n",
    "\n",
    "        def __len__(self):\n",
    "            return len(self.input['input_ids'])\n",
    "\n",
    "    \"\"\"\n",
    "    # uncomment the following lines if you don't want\n",
    "    # to sanity check\n",
    "    amount_to_print = 5\n",
    "    print(f\"printing first {amount_to_print}:\") \n",
    "    for id, label in zip(inputs['input_ids'][:amount_to_print], inputs['labels'][:amount_to_print]):\n",
    "        print(f\"id: {''.join(tokenizer.decode(id))}\")\n",
    "        print(f\"label: {''.join(tokenizer.decode(label))}\")\n",
    "    \"\"\"\n",
    "\n",
    "    inputs = torch.load(path) \n",
    "    return torch.utils.data.DataLoader( MyDataset(inputs), **params)"
   ]
  },
  {
   "cell_type": "code",
   "execution_count": null,
   "metadata": {},
   "outputs": [],
   "source": [
    "masking_strategy = available_masking_strategies[chosen_masking_strategy]\n",
    "train_dataloader = create_dataloader('../../data/random_tokens_train_tokens', train_params)"
   ]
  },
  {
   "attachments": {},
   "cell_type": "markdown",
   "metadata": {},
   "source": [
    "### Training"
   ]
  },
  {
   "attachments": {},
   "cell_type": "markdown",
   "metadata": {},
   "source": [
    "We'll implement early stopping, that will print the best model if the next \"early_stopping_patience\" models are worse than it."
   ]
  },
  {
   "cell_type": "code",
   "execution_count": null,
   "metadata": {},
   "outputs": [],
   "source": [
    "best_loss = 100 # best loss that the current best model yielded\n",
    "epochs = 3"
   ]
  },
  {
   "cell_type": "code",
   "execution_count": null,
   "metadata": {},
   "outputs": [],
   "source": [
    "model = send_to_device(model)"
   ]
  },
  {
   "cell_type": "code",
   "execution_count": null,
   "metadata": {},
   "outputs": [],
   "source": [
    "opt = torch.optim.AdamW(model.parameters(), lr = LEARNING_RATE)"
   ]
  },
  {
   "cell_type": "code",
   "execution_count": null,
   "metadata": {},
   "outputs": [],
   "source": [
    "def run_epoch(num_epoch=0):\n",
    "    \"\"\" \n",
    "    Returns the loss yielded by the model's current state.\n",
    "    Modifies the state of the model, leaving the state\n",
    "    that yields the returned loss.\n",
    "\n",
    "    Receives a num_epoch that will be printed in the progress\n",
    "    feedback.\n",
    "    \"\"\"\n",
    "    loop = tqdm(train_dataloader, leave=True)\n",
    "    average_loss = 0\n",
    "    \n",
    "    for batch in loop:\n",
    "        opt.zero_grad()\n",
    "\n",
    "        input_ids = batch['input_ids']\n",
    "        labels =batch['labels']\n",
    "        attention_mask = batch['attention_mask']\n",
    "\n",
    "        input_ids = send_to_device(input_ids)\n",
    "        labels = send_to_device(labels)\n",
    "        attention_mask = send_to_device(attention_mask)\n",
    "\n",
    "        output = model(input_ids, labels=labels, attention_mask = attention_mask)\n",
    "        \n",
    "        loss = output.loss\n",
    "        average_loss += loss.item()\n",
    "        loss.backward()\n",
    "        opt.step()\n",
    "       \n",
    "        loop.set_description(f'Epoch {num_epoch}')\n",
    "        loop.set_postfix(loss = loss.item())\n",
    "\n",
    "    qtd = len(train_dataloader)\n",
    "\n",
    "    return average_loss/qtd"
   ]
  },
  {
   "cell_type": "code",
   "execution_count": null,
   "metadata": {},
   "outputs": [],
   "source": [
    "for i in range(epochs):\n",
    "    loss = run_epoch(i)\n",
    "    print(f'Current loss is {loss}')"
   ]
  },
  {
   "cell_type": "code",
   "execution_count": null,
   "metadata": {},
   "outputs": [],
   "source": [
    "torch.save(best_model, path+'best_model')"
   ]
  },
  {
   "attachments": {},
   "cell_type": "markdown",
   "metadata": {},
   "source": [
    "### Accuracy"
   ]
  },
  {
   "cell_type": "code",
   "execution_count": null,
   "metadata": {},
   "outputs": [],
   "source": [
    "from next_sentence_prediction.masked_llm.next_word_algorithms.priority_queue.predictions import get_all_predictions\n",
    "model.to('cpu')\n",
    "get_all_predictions('Hoje eu vou comer', tokenizer, model, 2, verbose=True)"
   ]
  },
  {
   "cell_type": "code",
   "execution_count": null,
   "metadata": {},
   "outputs": [],
   "source": [
    "def remove_ponctuation(sentence):\n",
    "  ponctuation_array = ['.', '!', '?', ';', '...']\n",
    "\n",
    "  chars = [char for char in sentence]\n",
    "\n",
    "  while chars and chars[-1] in ponctuation_array:\n",
    "    chars = chars[:-1]\n",
    "\n",
    "  sentence = ''.join(chars)\n",
    "\n",
    "  return sentence"
   ]
  },
  {
   "cell_type": "code",
   "execution_count": null,
   "metadata": {},
   "outputs": [],
   "source": [
    "raw_sentences_no_points = [ remove_ponctuation(sentence) for sentence in raw_sentences ]"
   ]
  },
  {
   "cell_type": "code",
   "execution_count": null,
   "metadata": {},
   "outputs": [],
   "source": [
    "def remove_last_word(sentence):\n",
    "  \"\"\"\n",
    "  Receives a sentence and return a tuple where the first\n",
    "  element is the sentence without the last word and the\n",
    "  second element is the last word itself.\n",
    "  \"\"\"\n",
    "  words = sentence.split()\n",
    "  return \" \".join(words[:-1]), words[-1]"
   ]
  },
  {
   "cell_type": "code",
   "execution_count": null,
   "metadata": {},
   "outputs": [],
   "source": [
    "def add_masked_token(sentence):\n",
    "    return sentence + \" <mask>\""
   ]
  },
  {
   "cell_type": "code",
   "execution_count": null,
   "metadata": {},
   "outputs": [],
   "source": [
    "sentences = [sentence for sentence in raw_sentences_no_points if sentence.split()]"
   ]
  },
  {
   "cell_type": "code",
   "execution_count": null,
   "metadata": {},
   "outputs": [],
   "source": [
    "desired_acc = 15"
   ]
  },
  {
   "cell_type": "code",
   "execution_count": null,
   "metadata": {},
   "outputs": [],
   "source": [
    "# for visuals\n",
    "loop = tqdm(sentences, leave=True)\n",
    "\n",
    "processed_up_to_now = 0\n",
    "\n",
    "accuracies = [0] * desired_acc\n",
    "\n",
    "for sentence in loop:\n",
    "\n",
    "    last_word_removed, last_word = remove_last_word(sentence)\n",
    "    last_word_removed = add_masked_token(last_word_removed)\n",
    "\n",
    "    try:\n",
    "        bert = get_all_predictions(last_word_removed, desired_acc)\n",
    "    except:\n",
    "        # if i fell here, the sentence reached the maximum amount\n",
    "        # of tokens, so we'll skip it\n",
    "        continue\n",
    "    if last_word in bert:\n",
    "        ix = bert.index(last_word)\n",
    "        accuracies[ix] += 1\n",
    "\n",
    "    processed_up_to_now += 1\n"
   ]
  },
  {
   "cell_type": "code",
   "execution_count": null,
   "metadata": {},
   "outputs": [],
   "source": [
    "file = open(path+'accuracy.txt', 'w')"
   ]
  },
  {
   "cell_type": "code",
   "execution_count": null,
   "metadata": {},
   "outputs": [],
   "source": [
    "up_to_now = 0\n",
    "for top, acc_val in enumerate(accuracies):\n",
    "    up_to_now += acc_val \n",
    "    percentage = (up_to_now/processed_up_to_now)*100\n",
    "    str = f\"{top+1}: {percentage}%\"\n",
    "    file.write(str+'\\n')\n",
    "    print(str)\n",
    "file.close()"
   ]
  }
 ],
 "metadata": {
  "kernelspec": {
   "display_name": "Python 3 (ipykernel)",
   "language": "python",
   "name": "python3"
  },
  "language_info": {
   "codemirror_mode": {
    "name": "ipython",
    "version": 3
   },
   "file_extension": ".py",
   "mimetype": "text/x-python",
   "name": "python",
   "nbconvert_exporter": "python",
   "pygments_lexer": "ipython3",
   "version": "3.10.12"
  }
 },
 "nbformat": 4,
 "nbformat_minor": 2
}
