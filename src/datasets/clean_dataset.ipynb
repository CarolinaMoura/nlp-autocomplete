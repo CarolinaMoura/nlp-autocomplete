{
 "cells": [
  {
   "cell_type": "code",
   "execution_count": 109,
   "metadata": {},
   "outputs": [],
   "source": [
    "import pandas as pd\n",
    "import string\n",
    "import re"
   ]
  },
  {
   "cell_type": "code",
   "execution_count": 110,
   "metadata": {},
   "outputs": [],
   "source": [
    "sentences_path = \"../../data/portuguese_sentences.parquet\""
   ]
  },
  {
   "cell_type": "code",
   "execution_count": 111,
   "metadata": {},
   "outputs": [],
   "source": [
    "df = pd.read_parquet(sentences_path)"
   ]
  },
  {
   "cell_type": "code",
   "execution_count": 112,
   "metadata": {},
   "outputs": [
    {
     "data": {
      "text/html": [
       "<div>\n",
       "<style scoped>\n",
       "    .dataframe tbody tr th:only-of-type {\n",
       "        vertical-align: middle;\n",
       "    }\n",
       "\n",
       "    .dataframe tbody tr th {\n",
       "        vertical-align: top;\n",
       "    }\n",
       "\n",
       "    .dataframe thead th {\n",
       "        text-align: right;\n",
       "    }\n",
       "</style>\n",
       "<table border=\"1\" class=\"dataframe\">\n",
       "  <thead>\n",
       "    <tr style=\"text-align: right;\">\n",
       "      <th></th>\n",
       "      <th>sentences</th>\n",
       "    </tr>\n",
       "  </thead>\n",
       "  <tbody>\n",
       "    <tr>\n",
       "      <th>0</th>\n",
       "      <td>Colossal é um filme de comédia, ação-thriller ...</td>\n",
       "    </tr>\n",
       "    <tr>\n",
       "      <th>1</th>\n",
       "      <td>Lol postei vídeos na minha conta a pensar que ...</td>\n",
       "    </tr>\n",
       "    <tr>\n",
       "      <th>2</th>\n",
       "      <td>mano A eu acho muito linda essa cena de scarle...</td>\n",
       "    </tr>\n",
       "    <tr>\n",
       "      <th>3</th>\n",
       "      <td>Só ele é Deus Com quem vocês compararão Deus? ...</td>\n",
       "    </tr>\n",
       "    <tr>\n",
       "      <th>4</th>\n",
       "      <td>Paulo Roberto Figueira Leal (Valença, 7 de mai...</td>\n",
       "    </tr>\n",
       "    <tr>\n",
       "      <th>...</th>\n",
       "      <td>...</td>\n",
       "    </tr>\n",
       "    <tr>\n",
       "      <th>1995</th>\n",
       "      <td>Na história da ciência, a teoria do calor ou \"...</td>\n",
       "    </tr>\n",
       "    <tr>\n",
       "      <th>1996</th>\n",
       "      <td>Joshua Thomas Kinney, mais conhecido como Josh...</td>\n",
       "    </tr>\n",
       "    <tr>\n",
       "      <th>1997</th>\n",
       "      <td>As Seicheles (\"Seychelles\") são um país da Áfr...</td>\n",
       "    </tr>\n",
       "    <tr>\n",
       "      <th>1998</th>\n",
       "      <td>Há 19 anos, o SUS (Sistema Único de Saúde) fez...</td>\n",
       "    </tr>\n",
       "    <tr>\n",
       "      <th>1999</th>\n",
       "      <td>@vaaaifelipe Se preferir nos procure através d...</td>\n",
       "    </tr>\n",
       "  </tbody>\n",
       "</table>\n",
       "<p>2000 rows × 1 columns</p>\n",
       "</div>"
      ],
      "text/plain": [
       "                                              sentences\n",
       "0     Colossal é um filme de comédia, ação-thriller ...\n",
       "1     Lol postei vídeos na minha conta a pensar que ...\n",
       "2     mano A eu acho muito linda essa cena de scarle...\n",
       "3     Só ele é Deus Com quem vocês compararão Deus? ...\n",
       "4     Paulo Roberto Figueira Leal (Valença, 7 de mai...\n",
       "...                                                 ...\n",
       "1995  Na história da ciência, a teoria do calor ou \"...\n",
       "1996  Joshua Thomas Kinney, mais conhecido como Josh...\n",
       "1997  As Seicheles (\"Seychelles\") são um país da Áfr...\n",
       "1998  Há 19 anos, o SUS (Sistema Único de Saúde) fez...\n",
       "1999  @vaaaifelipe Se preferir nos procure através d...\n",
       "\n",
       "[2000 rows x 1 columns]"
      ]
     },
     "execution_count": 112,
     "metadata": {},
     "output_type": "execute_result"
    }
   ],
   "source": [
    "df"
   ]
  },
  {
   "cell_type": "code",
   "execution_count": 113,
   "metadata": {},
   "outputs": [],
   "source": [
    "def split_sentences(sent: str) -> list[str]:\n",
    "    \"\"\"\n",
    "    Splits a \"sentence\" into sentences.\n",
    "    \"\"\"\n",
    "    pattern = r'[^.!?]+[.!?](?:\\s+|$)'\n",
    "    sentences = re.findall(pattern, sent, flags=re.DOTALL)\n",
    "\n",
    "    return sentences"
   ]
  },
  {
   "cell_type": "code",
   "execution_count": 114,
   "metadata": {},
   "outputs": [],
   "source": [
    "sentences = []\n",
    "\n",
    "for sent in df['sentences']:\n",
    "    sentences.extend(split_sentences(sent))"
   ]
  },
  {
   "cell_type": "code",
   "execution_count": 120,
   "metadata": {},
   "outputs": [],
   "source": [
    "def remove_last_word(sent: str) -> tuple[str, str]:\n",
    "    \"\"\"\n",
    "    Removes trailing punctuation and removes last word.\n",
    "\n",
    "    Returns: \n",
    "        (sentence without last word, last word)\n",
    "    \"\"\"\n",
    "    # remove trailing punctuation\n",
    "    match = re.search(r'[^\\w](?=[^\\w]*$)', sent)\n",
    "\n",
    "    if match is not None:\n",
    "        ix = match.start()\n",
    "        sent = sent[:ix]\n",
    "    \n",
    "    # remove last word\n",
    "    words = re.findall(r'\\w+', sent)\n",
    "\n",
    "    if not words:\n",
    "        return None\n",
    "\n",
    "    last_word = words[-1]\n",
    "    indices_stay = len(sent)-len(last_word)\n",
    "\n",
    "    sent = sent[:indices_stay]\n",
    "\n",
    "    return (sent, last_word)\n",
    "    "
   ]
  },
  {
   "cell_type": "code",
   "execution_count": 121,
   "metadata": {},
   "outputs": [],
   "source": [
    "df = {'sentence': [], 'last_word': []}\n",
    "\n",
    "for sent in sentences:\n",
    "    return_val = remove_last_word(sent)\n",
    "\n",
    "    if return_val is None:\n",
    "        continue \n",
    "\n",
    "    phrase, word = return_val\n",
    "\n",
    "    df['sentence'].append(phrase)\n",
    "    df['last_word'].append(word)"
   ]
  },
  {
   "cell_type": "code",
   "execution_count": null,
   "metadata": {},
   "outputs": [],
   "source": [
    "df = pd.DataFrame(df)\n",
    "df.to_csv('test.csv', index=False)"
   ]
  }
 ],
 "metadata": {
  "kernelspec": {
   "display_name": ".venv",
   "language": "python",
   "name": "python3"
  },
  "language_info": {
   "codemirror_mode": {
    "name": "ipython",
    "version": 3
   },
   "file_extension": ".py",
   "mimetype": "text/x-python",
   "name": "python",
   "nbconvert_exporter": "python",
   "pygments_lexer": "ipython3",
   "version": "3.10.12"
  },
  "orig_nbformat": 4
 },
 "nbformat": 4,
 "nbformat_minor": 2
}
